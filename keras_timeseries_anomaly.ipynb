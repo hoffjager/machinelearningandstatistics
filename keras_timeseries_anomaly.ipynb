{
 "cells": [
  {
   "attachments": {},
   "cell_type": "markdown",
   "metadata": {},
   "source": [
    "On the keras website, there is an example of time-series anomaly detection.  \n",
    "Re-create this example in a notebook of your own, explaining the concepts.  \n",
    "Clearly explain each keras function used, referring to the documentation.  \n",
    "Include an introduction to your notebook, setting the context and\n",
    "describing what the reader can expect as they read down through\n",
    "the notebook.  \n",
    "Include a conclusion section where you suggest improvements you\n",
    "could make to the analysis in the notebook.  \n",
    "\n",
    "Keras Team. Keras: the python deep learning api, 2022a. URL\n",
    "https://keras.io/  \n",
    "Keras Team. Timeseries anomaly detection using an autoencoder,\n",
    "2022b. URL https://keras.io/examples/timeseries/timeseries_anomaly_detection/  \n",
    "We will cover the main concepts\n",
    "within this notebook in class, to give\n",
    "you a starting point."
   ]
  },
  {
   "attachments": {},
   "cell_type": "markdown",
   "metadata": {},
   "source": [
    "Keras is an open-source software library with a Python interface for artificial neural networks.  \n",
    "Keras acts as an interface for the TensorFlow library, developed by the Google Brain team for the purposes of machine learning and artificial intelligence.  \n",
    "Keras was created by Francois Chollet, a software engineer at Google, and the coding is regularly maintained on GitHub.  \n",
    "Keras was created in order to better understand neural networks, which are a series of algorithms that intend to recognise trends in data which mimic how the human brain would perceive such trends from data.  \n",
    "Keras allows users to develop neural networks on the Internet, on iOS and Android systems as well as the Java Virtual Machine."
   ]
  },
  {
   "cell_type": "code",
   "execution_count": null,
   "metadata": {},
   "outputs": [],
   "source": [
    "# importing modules to work with numbers, data frames, Keras and plots\n",
    "import numpy as np\n",
    "import pandas as pd\n",
    "from tensorflow import keras\n",
    "from tensorflow.keras import layers\n",
    "from matplotlib import pyplot as plt"
   ]
  },
  {
   "attachments": {},
   "cell_type": "markdown",
   "metadata": {},
   "source": [
    "Anomaly detection means developing a program that can detect any rarely occurring data points in the data set.  \n",
    "We will provide Keras with data to read from via the Numenta Anomaly Benchmark (NAB) dataset.  \n",
    "The NAB intends to provide artificial timeseries data which contains labelled anomalous periods of behaviour, all in order, all timestamped and all possessing single values.  \n",
    "We will also use csv files:  \n",
    "First, training is carried out via the small noise csv.  \n",
    "Second, testing is carried out via the jumps up csv.  \n"
   ]
  },
  {
   "cell_type": "code",
   "execution_count": null,
   "metadata": {},
   "outputs": [],
   "source": [
    "nab_url = \"https://raw.githubusercontent.com/numenta/NAB/master/data/\"\n",
    "\n",
    "# training via small noise\n",
    "df_small_noise_suffix = \"artificialNoAnomaly/art_daily_small_noise.csv\"\n",
    "df_small_noise_url = nab_url + df_small_noise_suffix\n",
    "df_small_noise = pd.read_csv(\n",
    "    df_small_noise_url, parse_dates = True, index_col = \"timestamp\"\n",
    ")\n",
    "\n",
    "# testing via jumps up\n",
    "df_daily_jumpsup_suffix = \"artificialWithAnomaly/art_daily_jumpsup.csv\"\n",
    "df_daily_jumpsup_url = nab_url + df_daily_jumpsup_suffix\n",
    "df_daily_jumpsup = pd.read_csv(\n",
    "    df_daily_jumpsup_url, parse_dates = True, index_col = \"timestamp\"\n",
    ")\n",
    "\n",
    "# printing the data\n",
    "print(df_small_noise.head())\n",
    "print(df_daily_jumpsup.head())"
   ]
  },
  {
   "attachments": {},
   "cell_type": "markdown",
   "metadata": {},
   "source": [
    "References:\n",
    "https://keras.io/examples/timeseries/timeseries_anomaly_detection/\n",
    "https://huggingface.co/keras-io/time-series-anomaly-detection-autoencoder\n",
    "https://curiousily.com/posts/anomaly-detection-in-time-series-with-lstms-using-keras-in-python/  \n",
    "https://valueml.com/anomaly-detection-in-time-series-data-using-keras/  \n",
    "https://towardsdatascience.com/time-series-of-price-anomaly-detection-with-lstm-11a12ba4f6d9  \n",
    "https://en.wikipedia.org/wiki/Keras  \n",
    "https://www.simplilearn.com/tutorials/deep-learning-tutorial/what-is-keras  \n",
    "https://www.investopedia.com/terms/n/neuralnetwork.asp  \n"
   ]
  }
 ],
 "metadata": {
  "kernelspec": {
   "display_name": "Python 3.10.x 64-bit (microsoft store)",
   "language": "python",
   "name": "python3"
  },
  "language_info": {
   "name": "python",
   "version": "3.10"
  },
  "orig_nbformat": 4,
  "vscode": {
   "interpreter": {
    "hash": "a1f82d0fd1be96d5c2cfc8b5b6d623de297a3323bdcee05967133f841892dc18"
   }
  }
 },
 "nbformat": 4,
 "nbformat_minor": 2
}
