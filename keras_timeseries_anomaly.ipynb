{
 "cells": [
  {
   "cell_type": "markdown",
   "metadata": {},
   "source": []
  },
  {
   "cell_type": "markdown",
   "metadata": {},
   "source": [
    "References:\n",
    "https://keras.io/examples/timeseries/timeseries_anomaly_detection/\n",
    "https://huggingface.co/keras-io/time-series-anomaly-detection-autoencoder\n",
    "https://curiousily.com/posts/anomaly-detection-in-time-series-with-lstms-using-keras-in-python/\n",
    "https://valueml.com/anomaly-detection-in-time-series-data-using-keras/\n",
    "https://towardsdatascience.com/time-series-of-price-anomaly-detection-with-lstm-11a12ba4f6d9"
   ]
  }
 ],
 "metadata": {
  "language_info": {
   "name": "python"
  },
  "orig_nbformat": 4
 },
 "nbformat": 4,
 "nbformat_minor": 2
}
