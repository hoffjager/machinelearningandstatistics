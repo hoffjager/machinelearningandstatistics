{
 "cells": [
  {
   "cell_type": "markdown",
   "metadata": {},
   "source": []
  },
  {
   "cell_type": "markdown",
   "metadata": {},
   "source": [
    "References:\n",
    "https://keras.io/examples/timeseries/timeseries_anomaly_detection/\n",
    "https://huggingface.co/keras-io/time-series-anomaly-detection-autoencoder\n",
    "https://curiousily.com/posts/anomaly-detection-in-time-series-with-lstms-using-keras-in-python/\n",
    "https://valueml.com/anomaly-detection-in-time-series-data-using-keras/\n",
    "https://towardsdatascience.com/time-series-of-price-anomaly-detection-with-lstm-11a12ba4f6d9"
   ]
  }
 ],
 "metadata": {
  "kernelspec": {
   "display_name": "Python 3.10.x 64-bit (microsoft store)",
   "language": "python",
   "name": "python3"
  },
  "language_info": {
   "name": "python",
   "version": "3.10"
  },
  "orig_nbformat": 4,
  "vscode": {
   "interpreter": {
    "hash": "a1f82d0fd1be96d5c2cfc8b5b6d623de297a3323bdcee05967133f841892dc18"
   }
  }
 },
 "nbformat": 4,
 "nbformat_minor": 2
}
