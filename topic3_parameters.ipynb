{
 "cells": [
  {
   "cell_type": "markdown",
   "metadata": {},
   "source": [
    "Parameters"
   ]
  },
  {
   "cell_type": "code",
   "execution_count": null,
   "metadata": {},
   "outputs": [],
   "source": [
    "# importing numerical arrays\n",
    "import numpy as np\n",
    "\n",
    "# plotting capabilities\n",
    "import matplotlib.pyplot as plt"
   ]
  },
  {
   "cell_type": "code",
   "execution_count": null,
   "metadata": {},
   "outputs": [],
   "source": [
    "# range of x values\n",
    "x = np.linspace(0.0, 10.0, 20)\n",
    "x"
   ]
  },
  {
   "cell_type": "code",
   "execution_count": null,
   "metadata": {},
   "outputs": [],
   "source": [
    "# range of y values based on x\n",
    "y = 4.0 * x - 2.0 + np.random.normal(0.0, 1.0, len(x))\n",
    "y"
   ]
  },
  {
   "cell_type": "code",
   "execution_count": null,
   "metadata": {},
   "outputs": [],
   "source": [
    "# creating a plot\n",
    "fig, ax = plt.subplots(figsize = (12, 6))\n",
    "\n",
    "# plotting x versus y\n",
    "ax.plot(x, y, 'k.')"
   ]
  },
  {
   "cell_type": "code",
   "execution_count": null,
   "metadata": {},
   "outputs": [],
   "source": [
    "# using x & y to try and find the original parameters\n",
    "params = np.polyfit(x, y, 1)\n",
    "params"
   ]
  },
  {
   "cell_type": "code",
   "execution_count": null,
   "metadata": {},
   "outputs": [],
   "source": [
    "# creating a plot\n",
    "fig, ax = plt.subplots(figsize = (12, 6))\n",
    "\n",
    "# plotting x versus y\n",
    "ax.plot(x, y, 'k.')\n",
    "\n",
    "# plotting x versus parameters on x\n",
    "ax.plot(x, params[0] * x + params[1], 'b-')"
   ]
  },
  {
   "cell_type": "code",
   "execution_count": null,
   "metadata": {},
   "outputs": [],
   "source": [
    "# using x & y to try and find the original parameters\n",
    "params = np.polyfit(x, y, 2)\n",
    "params"
   ]
  },
  {
   "cell_type": "code",
   "execution_count": null,
   "metadata": {},
   "outputs": [],
   "source": [
    "# creating a plot\n",
    "fig, ax = plt.subplots(figsize = (12, 6))\n",
    "\n",
    "# plotting x versus y\n",
    "ax.plot(x, y, 'k.')\n",
    "\n",
    "# temporary x values\n",
    "xtmp = np.linspace(-1000.0, 100.0, 10000)\n",
    "\n",
    "# plotting x versus parameters on x\n",
    "ax.plot(xtmp, params[0] * xtmp**2 + params[1] * xtmp + params[2], 'b-')"
   ]
  },
  {
   "cell_type": "code",
   "execution_count": null,
   "metadata": {},
   "outputs": [],
   "source": [
    "# creating a plot\n",
    "fig, ax = plt.subplots(figsize = (12, 6))\n",
    "\n",
    "# temporary x values\n",
    "xtmp = np.linspace(-9.0, 11.0, 1000)\n",
    "\n",
    "# plotting x versus parameters on x\n",
    "ax.plot(xtmp, xtmp**2 - 2.0 * xtmp + 1.0, 'b-')"
   ]
  },
  {
   "cell_type": "code",
   "execution_count": null,
   "metadata": {},
   "outputs": [],
   "source": [
    "# creating a plot\n",
    "fig, ax = plt.subplots(figsize = (12, 6))\n",
    "\n",
    "# temporary x values\n",
    "xtmp = np.linspace(-9.0, 11.0, 1000)\n",
    "\n",
    "# plotting x versus parameters on x\n",
    "ax.plot(xtmp, xtmp**3 - 4.0 * xtmp**2 - 2.0 * xtmp + 1.0, 'b-')"
   ]
  },
  {
   "cell_type": "code",
   "execution_count": null,
   "metadata": {},
   "outputs": [],
   "source": [
    "# using x & y to try to find the original parameters\n",
    "params = np.polyfit(x, y, 3)\n",
    "params"
   ]
  },
  {
   "cell_type": "code",
   "execution_count": null,
   "metadata": {},
   "outputs": [],
   "source": [
    "# creating a plot\n",
    "fig, ax = plt.subplots(figsize = (12, 6))\n",
    "\n",
    "# plotting x versus y\n",
    "ax.plot(x, y, 'k.')\n",
    "\n",
    "# plotting x versus parameters on x\n",
    "ax.plot(x, np.polyval(params, x), 'b-')"
   ]
  },
  {
   "cell_type": "code",
   "execution_count": null,
   "metadata": {},
   "outputs": [],
   "source": [
    "# Highest power of x in the polynomial\n",
    "degree = 100\n",
    "\n",
    "# using x & y to try to find the original parameters\n",
    "params = np.polyfit(x, y, degree)\n",
    "\n",
    "# showing parameters\n",
    "print(params)\n",
    "\n",
    "# creating a plot\n",
    "fig, ax = plt.subplots(figsize = (12, 6))\n",
    "\n",
    "# plotting x versus y\n",
    "ax.plot(x, y, 'k.')\n",
    "\n",
    "# plotting x versus parameters on x\n",
    "ax.plot(x, np.polyval(params, x), 'b-')"
   ]
  },
  {
   "cell_type": "markdown",
   "metadata": {},
   "source": [
    "Exercise 1:  \n",
    "Use NumPy's polyfit to fit polynomials to the following two data sets:  \n",
    "\n",
    "Data Set 1:  \n",
    "x = [0.0, 1.0, 2.0, 3.0, 4.0, 5.0, 6.0, 7.0, 8.0, 9.0, 10.0, 11.0, 12.0, 13.0, 14.0, 15.0]  \n",
    "y = [1.3, 1.2, 9.4, 27.3, 63.1, 126.5, 217.3, 341.5, 512.8, 729.3, 1001.8, 1332.7, 1728.9, 2198.8, 2743.7, 3376.7]  \n",
    "\n",
    "Data Set 2:  \n",
    "x = [0.0, 1.0, 2.0, 3.0, 4.0, 5.0, 6.0, 7.0, 8.0, 9.0, 10.0, 11.0, 12.0]  \n",
    "y = [5.7, 16.6, 58.0, 278.9, 1069.3, 3181.4, 7844.3, 16883.9, 32854.9, 59144.2, 100106.7, 161166.3, 248958.6]"
   ]
  },
  {
   "cell_type": "markdown",
   "metadata": {},
   "source": [
    "References:  \n",
    "McLoughlin Ian, Machine Learning & Statistics Lecture Notes, ATU Galway, https://github.com/ianmcloughlin/2223-S1-machine-learn-stats/blob/main/notebooks/03-parameters.ipynb  \n",
    "NumPy Polyfit, EDUCBA, https://www.educba.com/numpy-polyfit"
   ]
  },
  {
   "cell_type": "markdown",
   "metadata": {},
   "source": [
    "The polyfit( ) function fits the data sets above within a polynomial function:  \n",
    "\n",
    "numpy.polyfit(x, y, deg, rcond = None, full = False, w = None, cov = False)  \n",
    "\n",
    "x is array-like, representing the M sample x-coordinate value of (x[i], y[i])  \n",
    "y is array-like, representing the M sample y-coordinate value of (x[i], y[i])  \n",
    "deg is an integer, representing the fitting polynomial degree.  \n",
    "rcond is an optional float value.  \n",
    "full is an optional Boolean value.  \n",
    "w is array-like, representing the weights to put to the sample point's y-coordinates.  \n",
    "cov is an optional Boolean value."
   ]
  },
  {
   "cell_type": "code",
   "execution_count": null,
   "metadata": {},
   "outputs": [],
   "source": [
    "import matplotlib.pyplot as plt\n",
    "import numpy as np\n",
    "\n",
    "x = np.linspace(-10, 10, 5)\n",
    "y = 2*x + 5\n",
    "\n",
    "plt.plot(x, y, 'o')"
   ]
  },
  {
   "cell_type": "markdown",
   "metadata": {},
   "source": [
    "We can add polynomial data to the above plot by using the polyfit( ) function from NumPy.  \n"
   ]
  },
  {
   "cell_type": "code",
   "execution_count": null,
   "metadata": {},
   "outputs": [],
   "source": [
    "y = ax**2 + bx + c\n",
    "\n",
    "x = np.linspace(-10, 10, 5)\n",
    "y = 2*x + 5\n",
    "\n",
    "coeff = np.polyfit(x, y, 2)\n",
    "\n",
    "xn = np.linspace(-20, 20, 100)\n",
    "yn = np.poly1d(coeff)\n",
    "\n",
    "plt.plot(xn, yn(xn), x, y, 'o')"
   ]
  }
 ],
 "metadata": {
  "kernelspec": {
   "display_name": "Python 3 (ipykernel)",
   "language": "python",
   "name": "python3"
  },
  "language_info": {
   "codemirror_mode": {
    "name": "ipython",
    "version": 3
   },
   "file_extension": ".py",
   "mimetype": "text/x-python",
   "name": "python",
   "nbconvert_exporter": "python",
   "pygments_lexer": "ipython3",
   "version": "3.9.13"
  }
 },
 "nbformat": 4,
 "nbformat_minor": 2
}
