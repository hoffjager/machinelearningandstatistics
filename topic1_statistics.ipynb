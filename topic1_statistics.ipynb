{
 "cells": [
  {
   "cell_type": "code",
   "execution_count": null,
   "metadata": {},
   "outputs": [],
   "source": [
    "# Statistical testing\n",
    "# Ronald A. Fisher coined the Lady Tasting Tea Problem\n",
    "# The lady can ascertain whether tea had milk first or second during preparation phase\n",
    "# How many combinations of arrangements can the lady make from 8 cups of tea?\n",
    "cups = list(range(8))\n",
    "cups"
   ]
  },
  {
   "cell_type": "code",
   "execution_count": null,
   "metadata": {},
   "outputs": [],
   "source": [
    "# If we or the lady were to select cups randomly, 1 of 70 options are possible.\n",
    "# 1 of 70 from: (8*7*6*5)/(4*3*2*1) = 70\n",
    "\n",
    "# We will use the itertools package from Python\n",
    "# All possibilities/combinations are generated\n",
    "import itertools\n",
    "\n",
    "cups = list(range(8))\n",
    "poss = list(itertools.combinations(cups, 4))\n",
    "poss\n",
    "\n",
    "# This takes the list(cups) along with a number(4)\n",
    "# This returns every possible way of selecting 4 random cups from the list."
   ]
  },
  {
   "cell_type": "code",
   "execution_count": null,
   "metadata": {},
   "outputs": [],
   "source": [
    "# Null Hypothesis\n",
    "# Null hypothesis is defined as the test subject unable to tell if the cup had milk first or second.\n",
    "\n",
    "# Alternative Hypothesis\n",
    "# If the test subject can choose the 4 cups with milk correctly,\n",
    "# there is a 1 in 70 chance of this happening or approx 1.4%.\n",
    "\n",
    "(1/70)*100"
   ]
  },
  {
   "cell_type": "code",
   "execution_count": null,
   "metadata": {},
   "outputs": [],
   "source": [
    "# Exercise 1:\n",
    "# The code above gives about a 1.5% chance of randomly selecting the correct cups with milk first.\n",
    "# Calculate the minimum number of cups of tea required to ensure the\n",
    "# probability of randomly selecting the correct cups of tea is less than or equal to 1%\n",
    "\n",
    "# Bonus: How many would be required if you were to allow the taster to get one cup wrong whilst maintaining the 1% threshold?\n",
    "\n",
    "import itertools\n",
    "\n",
    "cups = list(range(100))\n",
    "poss = list(itertools.combinations(cups, 2))\n",
    "\n",
    "\n",
    "print(poss)\n",
    "\n",
    "(1/6)*100\n",
    "\n",
    "# 1 of 6 from: (4*3)/(2*1) = 6"
   ]
  }
 ],
 "metadata": {
  "kernelspec": {
   "display_name": "Python 3.10.8 64-bit (microsoft store)",
   "language": "python",
   "name": "python3"
  },
  "language_info": {
   "codemirror_mode": {
    "name": "ipython",
    "version": 3
   },
   "file_extension": ".py",
   "mimetype": "text/x-python",
   "name": "python",
   "nbconvert_exporter": "python",
   "pygments_lexer": "ipython3",
   "version": "3.10.8"
  },
  "orig_nbformat": 4,
  "vscode": {
   "interpreter": {
    "hash": "a1f82d0fd1be96d5c2cfc8b5b6d623de297a3323bdcee05967133f841892dc18"
   }
  }
 },
 "nbformat": 4,
 "nbformat_minor": 2
}
