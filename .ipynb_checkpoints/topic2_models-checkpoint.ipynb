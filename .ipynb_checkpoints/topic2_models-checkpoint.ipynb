{
 "cells": [
  {
   "cell_type": "markdown",
   "metadata": {},
   "source": [
    "Mathematical Models  \n",
    "Students are normally taught to draw lines using the formula:  \n",
    "y = 2x + 1  \n",
    "\n",
    "Choosing two values for x and calculating corresponding values for y via the equation above.  \n",
    "Then axes are drawn, points plotted and a line drawn that extends through the two dots on their axes.\n"
   ]
  },
  {
   "cell_type": "code",
   "execution_count": null,
   "metadata": {},
   "outputs": [],
   "source": [
    "# importing matplotlib\n",
    "import matplotlib.pyplot as plt\n",
    "\n",
    "# drawing axes\n",
    "plt.plot([-1, 10], [0, 0], 'k-')\n",
    "plt.plot([0, 0], [-1, 10], 'k-')\n",
    "\n",
    "# plotting blue and red lines\n",
    "plt.plot([1, 1], [-1, 3], 'b:')\n",
    "plt.plot([-1, 1], [3, 3], 'r:')\n",
    "\n",
    "# plotting the two points (1, 3) & (2, 5)\n",
    "plt.plot([1, 2], [3, 5], 'ko')\n",
    "\n",
    "# joining points with an extending green line\n",
    "plt.plot([-1, 10], [-1, 21], 'g-')\n",
    "\n",
    "# setting plot limits\n",
    "plt.xlim([-1, 10])\n",
    "plt.ylim([-1, 10])\n",
    "\n",
    "# showing plot\n",
    "plt.show()"
   ]
  },
  {
   "cell_type": "markdown",
   "metadata": {},
   "source": [
    "Scenario  \n",
    "What if we have some points and are instead looking for the equation?  \n",
    "Example of weighing our travel case to avoid extra charges at a certain airline.  \n",
    "\n",
    "We don't have weighing scales to use, but we do have a spring and a set of weights, ranging from 7kg, 14kg & 21kg.  \n",
    "We attach the spring to the wall hook and mark where the bottom of the spring hangs without any weights attached.  \n",
    "Hang the 7kg weight on the end of the spring and mark where the bottom of the spring is now hanging.  \n",
    "Repeat the above step with the 14kg & 21kg weights.  \n",
    "Finally, we attach our travel case to the spring and it hangs approximately halfway between 7kg & 14kg.  \n",
    "So is the travel case over the 10kg limit?  \n",
    "\n",
    "When we look at the marks made on the wall, the marks are evenly spaced out in 7kg increments (0, 7, 14, 21)  \n",
    "Does the case weigh 10.5kg?  \n",
    "Is there a linear relationship between the:  \n",
    "#1. Distance the spring's hook is from its resting position  \n",
    "#2. Mass on the end of the spring's hook"
   ]
  },
  {
   "cell_type": "markdown",
   "metadata": {},
   "source": [
    "Experiment  \n",
    "So we buy some new weights, 1kg, 2kg, 3kg, all up to 20kg in 1kg increments.  \n",
    "We place each weight in turn on the spring to measure their distances.  \n",
    "The spring moves from its resting position, and data is recorded and then plotted."
   ]
  },
  {
   "cell_type": "code",
   "execution_count": null,
   "metadata": {},
   "outputs": [],
   "source": [
    "# importing numpy to deal with numerical multi-dimensional arrays\n",
    "import numpy as np\n",
    "\n",
    "# importing matplotlib, a plotting library, along with pyplot module\n",
    "import matplotlib.pyplot as plt\n",
    "\n",
    "# setting plot size\n",
    "plt.rcParams['figure.figsize'] = (8, 6)\n",
    "\n",
    "# w is an array containing weight values\n",
    "# d is an array containing corresponding distance measurements\n",
    "w = np.arange(0.0, 21.0, 1.0)\n",
    "d = 5.0 * w + 10.0 + np.random.normal(0.0, 5.0, w.size)\n",
    "\n",
    "w\n",
    "d\n",
    "\n",
    "# creating the plot\n",
    "plt.plot(w, d, 'k.')\n",
    "\n",
    "# labelling axes for the plot\n",
    "plt.xlabel('Weight (kg)')\n",
    "plt.ylabel('Distance (cm)')\n",
    "\n",
    "# showing the plot\n",
    "plt.show()"
   ]
  },
  {
   "cell_type": "markdown",
   "metadata": {},
   "source": [
    "The plot shows the data could be linear, the points don't truly show a straight line but are close to it.  \n",
    "Debating other factors that could prevent a perfect line, such as air density, human error, etc."
   ]
  },
  {
   "cell_type": "markdown",
   "metadata": {},
   "source": [
    "Straight Lines  \n",
    "Expressed via y = mx + c\n",
    "where m is the slope of the line, c is the y-intercept of the line (the value of y when x is 0)  \n",
    "\n",
    "We must pick values for m & c in order to fit a straight line to the above data.  \n",
    "These are the parameters of our model and we want to choose the best possible values."
   ]
  },
  {
   "cell_type": "code",
   "execution_count": null,
   "metadata": {},
   "outputs": [],
   "source": [
    "# Plotting w versus d with black dots\n",
    "plt.plot(w, d, 'k.', label = \"Data\")\n",
    "\n",
    "# Overlaying some lines on the plot\n",
    "x = np.arange(0.0, 21.0, 1.0)\n",
    "plt.plot(x, 5.0 * x + 10.0, 'r-', label = r\"$5x + 10$\")\n",
    "plt.plot(x, 6.0 * x + 5.0, 'g-', label = r\"$6x + 5$\")\n",
    "plt.plot(x, 5.0 * x + 15.0, 'b-', label = r\"$5x + 15$\")\n",
    "\n",
    "# adding a legend to the plot\n",
    "plt.legend()\n",
    "\n",
    "# adding labels for axes\n",
    "plt.xlabel('Weight (kg)')\n",
    "plt.ylabel('Distance (cm)')\n",
    "\n",
    "# showing the plot\n",
    "plt.show()"
   ]
  },
  {
   "cell_type": "markdown",
   "metadata": {},
   "source": [
    "Calculating the Cost  \n",
    "Each line above roughly fits the data, but which is best?  \n",
    "The best line minimises the following calculated value:  \n",
    "\n",
    "Ei (yi - mxi - c)**2  \n",
    "where (xi, yi) is the i^th point in our data set, and Ei means to sum over all data points.  \n",
    "\n",
    "Values of m & c are to be determined, denoted as Cost(m, c):  \n",
    "\n",
    "Looking at \"(yi - mxi - c)\", the corresponding value to xi is yi, these are the measured values.  \n",
    "\"mxi + c\" is what the model says that yi should have been.  \n",
    "\n",
    "The difference between the observed value (yi) and the value that the model gives (mxi + c) is \"yi - mxi - c\"."
   ]
  },
  {
   "cell_type": "markdown",
   "metadata": {},
   "source": [
    "Why Square the Value?  \n",
    "The value may be positive or negative, and we sum over all values.  \n",
    "If we allow values to be positive or negative, then positives can cancel negatives.  \n",
    "So we take the absolute value: | yi - mxi - c |  \n",
    "Alternatively, we square the quantity as the square of a number is always positive."
   ]
  },
  {
   "cell_type": "code",
   "execution_count": null,
   "metadata": {},
   "outputs": [],
   "source": [
    "# calculating the cost of the lines above for the above data\n",
    "cost = lambda m,c: np.sum([(d[i] - m * w[i] - c)**2 for i in range(w.size)])\n",
    "\n",
    "print(\"Cost with m = %5.2f and c = %5.2f: %8.2f\" % (5.0, 10.0, cost(5.0, 10.0)))\n",
    "print(\"Cost with m = %5.2f and c = %5.2f: %8.2f\" % (6.0, 5.0, cost(6.0, 5.0)))\n",
    "print(\"Cost with m = %5.2f and c = %5.2f: %8.2f\" % (5.0, 15.0, cost(5.0, 15.0)))"
   ]
  },
  {
   "cell_type": "markdown",
   "metadata": {},
   "source": [
    "Minimising the Cost  \n",
    "We are looking to calculate values for m & c that will give the lowest cost value above.  \n",
    "\n",
    "We can plot the cost value using the formula:  \n",
    "Cost(m,c) = Ei (yi - mxi - c)**2  \n",
    "\n",
    "The cost value contains two variables, m & c, so a 3D plot is required.  \n",
    "For a 2D plot with a few data points, we can easily calculate the best values for m & c.\n",
    "\n",
    "We must first calculate the mean values of x and y.  \n",
    "Then subtract the mean of x from each value of x, and the mean of y from each value of y.  \n",
    "\n",
    "Then we take the dot product of the new x values and new y values, and divide it by the dot product of the new x values with themselves, which gives us m.  \n",
    "We then use m to calculate c.  \n",
    "\n",
    "x is called w (weight), y is called d (distance)."
   ]
  },
  {
   "cell_type": "code",
   "execution_count": null,
   "metadata": {},
   "outputs": [],
   "source": [
    "# We must first calculate the mean values of x (weight) and of y (distance)\n",
    "w_avg = np.mean(w)\n",
    "d_avg = np.mean(d)\n",
    "\n",
    "# Then subtract the mean of w from each value of w, and the mean of d from each value of d\n",
    "w_zero = w - w_avg\n",
    "d_zero = d - d_avg\n",
    "\n",
    "# The best value for m is calculated\n",
    "m = np.sum(w_zero * d_zero) / np.sum(w_zero * w_zero)\n",
    "\n",
    "# Using m to calculate the best value for c\n",
    "c = d_avg - m * w_avg\n",
    "\n",
    "# printing results\n",
    "print(\"m is %8.6f and c is %6.6f.\" % (m, c))"
   ]
  },
  {
   "cell_type": "code",
   "execution_count": null,
   "metadata": {},
   "outputs": [],
   "source": [
    "# Numpy can perform this calculation via polyfit\n",
    "np.polyfit(w, d, 1)"
   ]
  },
  {
   "cell_type": "markdown",
   "metadata": {},
   "source": [
    "Best Fit Line"
   ]
  },
  {
   "cell_type": "code",
   "execution_count": null,
   "metadata": {},
   "outputs": [],
   "source": [
    "# Plotting the best fit line\n",
    "plt.plot(w, d, 'k.', label = 'Original Data')\n",
    "plt.plot(w, m * w + c, 'b-', label = 'Best Fit Line')\n",
    "\n",
    "# adding labels for axes and a legend\n",
    "plt.xlabel('Weight (kg)')\n",
    "plt.ylabel('Distance (cm)')\n",
    "plt.legend()\n",
    "\n",
    "# showing the plot\n",
    "plt.show()"
   ]
  },
  {
   "cell_type": "markdown",
   "metadata": {},
   "source": [
    "The Cost of the best m & c is not zero.\n"
   ]
  },
  {
   "cell_type": "code",
   "execution_count": null,
   "metadata": {},
   "outputs": [],
   "source": [
    "print(\"Cost with m = %5.2f and c = %5.2f: %8.2f\" % (m, c, cost(m, c)))"
   ]
  },
  {
   "cell_type": "markdown",
   "metadata": {},
   "source": [
    "Exercise 1:  \n",
    "Use numpy & matplotlib to plot the absolute value function.  \n",
    "Research and explain why the absolute value function is not typically used in fitting straight line data."
   ]
  },
  {
   "cell_type": "markdown",
   "metadata": {},
   "source": [
    "References:  \n",
    "Program to Plotting Absolute Function?, ePythonGuru, https://www.epythonguru.com/2019/11/how-to-plot-absolute-function.html  \n",
    "Grace Alfie, Python Absolute Value - abs() for real and complex numbers, LearnDataSci, https://www.learndatasci.com/solutions/python-absolute-value/  \n",
    "\n",
    "The abs( ) function is built into Python's Numpy module, and it returns the absolute value of a given number.  \n",
    "The function can take a single argument and it can be either an integer, float or complex number.  \n",
    "The function returns the absolute value for integers or floats, whereas the magnitude is returned for complex numbers.  \n",
    "\n",
    "A complex number is a combination of real and imaginary numbers, where an imaginary number is denoted as the square root of a negative number, labelled as i or j (square root of -1).  "
   ]
  },
  {
   "cell_type": "code",
   "execution_count": null,
   "metadata": {},
   "outputs": [],
   "source": [
    "# complex number with real & imaginary parts\n",
    "complex_no = (5 - 9j)\n",
    "\n",
    "print(\"The Magnitude of 5 - 9j is:\", abs(complex_no))"
   ]
  },
  {
   "cell_type": "code",
   "execution_count": null,
   "metadata": {},
   "outputs": [],
   "source": [
    "# plotting the absolute function abs()\n",
    "import numpy as np\n",
    "import matplotlib.pyplot as plt\n",
    "\n",
    "x = np.arange(-3.14, 3 * 3.14)\n",
    "\n",
    "a = 2 * x\n",
    "b = x * 3\n",
    "\n",
    "y = np.abs(a * x + b)\n",
    "\n",
    "plt.plot(x, y)\n",
    "plt.xlabel(\"X Values\")\n",
    "plt.ylabel(\"Y Values\")\n",
    "plt.title(\"Absolute Function abs()\")\n",
    "\n",
    "plt.grid(True)\n",
    "plt.show()"
   ]
  },
  {
   "cell_type": "markdown",
   "metadata": {},
   "source": [
    "Optimization  \n",
    "We will use SciPy to estimate parameters:  \n",
    "\n",
    "Cost(m,c) = Ei (yi - mxi - c)**2"
   ]
  },
  {
   "cell_type": "code",
   "execution_count": null,
   "metadata": {},
   "outputs": [],
   "source": [
    "import scipy.optimize as so\n",
    "import numpy as np\n",
    "\n",
    "# fixing x values\n",
    "x = np.arange(0.0, 21.0, 1.0)\n",
    "\n",
    "# fixing y values\n",
    "y = 5.0 * x + 10.0 + np.random.normal(0.0, 5.0, x.size)\n",
    "\n",
    "x, y"
   ]
  },
  {
   "cell_type": "markdown",
   "metadata": {},
   "source": [
    "Now we will use the minimize function in scipy.optimize.  \n",
    "We first need a function to minimize, the Cost function.  \n",
    "The x and y values are fixed values as shown above.  \n",
    "The function must take a single argument, although the cost function takes 2: m & c.  \n",
    "To remedy this, m & c will go into a list titled MC (MC = (5, 10))"
   ]
  },
  {
   "cell_type": "code",
   "execution_count": null,
   "metadata": {},
   "outputs": [],
   "source": [
    "def cost(MC):\n",
    "    # Unpacking the values, m & c\n",
    "    m, c = MC\n",
    "    # Data points needed in this function\n",
    "    cost = np.sum((y - m * x - c)**2)\n",
    "    # Returning the value\n",
    "    return cost\n",
    "\n",
    "# Running a quick test\n",
    "cost((5.0, 10.0))\n",
    "\n",
    "# https://docs.scipy.org/doc/scipy/reference/generated/scipy.optimize.minimize.html#scipy.optimize.minimize/\n",
    "result = so.minimize(cost, (2.0, 2.0))\n",
    "\n",
    "# showing results\n",
    "result\n",
    "\n",
    "# extracting the optimized m & c\n",
    "m_o, c_o = result.x\n",
    "\n",
    "# printing the optimized values\n",
    "m_o, c_o\n",
    "\n",
    "# the previous analytical result via polyfit\n",
    "m_a, c_a = np.polyfit(x, y, 1)\n",
    "\n",
    "# printing the analytical values\n",
    "m_a, c_a"
   ]
  },
  {
   "cell_type": "code",
   "execution_count": null,
   "metadata": {},
   "outputs": [],
   "source": [
    "# Plotting the best fit line from the optimization\n",
    "fig, ax = plt.subplots(figsize = (8, 6))\n",
    "ax.plot(x, y, 'k.', label = 'Original Data')\n",
    "ax.plot(x, m_o * x + c_o, 'b-', label = 'Optimized Line')\n",
    "ax.plot(x, m_a * x + c_a, 'g-', label = 'Analytical Line')\n",
    "ax.legend()\n",
    "\n",
    "# showing the plot\n",
    "plt.show()"
   ]
  },
  {
   "cell_type": "markdown",
   "metadata": {},
   "source": [
    "Curve Fitting  \n",
    "SciPy Optimize Curve Fit, SciPy, https://docs.scipy.org/doc/scipy/reference/generated/scipy.optimize.curve_fit.html"
   ]
  },
  {
   "cell_type": "code",
   "execution_count": null,
   "metadata": {},
   "outputs": [],
   "source": [
    "# Creating function for a model\n",
    "def f(x, m, c):\n",
    "    return m * x + c\n",
    "\n",
    "# running curve_fit\n",
    "result = so.curve_fit(f, x, y)\n",
    "\n",
    "# looking at the result\n",
    "result\n",
    "\n",
    "# pulling out the parameters\n",
    "m_f, c_f = result[0]\n",
    "\n",
    "# printing values\n",
    "m_f, c_f\n",
    "\n",
    "# plotting best fit line from the optimization\n",
    "fig, ax = plt.subplots(figsize = (8, 6))\n",
    "ax.plot(x, y, 'k.', label = 'Original Data')\n",
    "ax.plot(x, m_f * x + c_f, 'r-', label = 'Curve Fit Line')\n",
    "ax.plot(x, m_a * x + c_a, 'g-', label = 'Analytical Line')\n",
    "\n",
    "# showing the plot\n",
    "plt.show()"
   ]
  },
  {
   "cell_type": "markdown",
   "metadata": {},
   "source": [
    "Exercise 2:  \n",
    "Fit a straight line to the following data points using all three methods from the lecture notes.  \n",
    "Do you think a straight line is a good model for these points below:  \n",
    "x = [2.0, 3.0, 4.0, 5.0, 6.0, 7.0, 8.0, 9.0, 10.0, 11.0, 12.0, 13.0, 14.0, 15.0, 16.0, 17.0, 18.0, 19.0, 20.0]  \n",
    "y = [0.7, 1.1, 1.5, 1.6, 1.7, 2.0, 2.3, 2.4, 2.2, 2.1, 2.4, 2.6, 2.2, 2.7, 2.5, 2.7, 2.8, 2.9, 3.1]"
   ]
  },
  {
   "cell_type": "markdown",
   "metadata": {},
   "source": [
    "References:  \n",
    "Zach, How to Plot Line of Best Fit in Python (With Examples), Statology, https://www.statology.org/line-of-best-fit-python/  \n",
    "Ashley Michael, Fitting a Straight Line to Data Points, University of New South Wales, Australia, https://newt.phys.unsw.edu.au/~mcba/mcba12.pdf"
   ]
  },
  {
   "cell_type": "code",
   "execution_count": null,
   "metadata": {},
   "outputs": [],
   "source": [
    "import numpy as np\n",
    "import matplotlib.pyplot as plt\n",
    "\n",
    "# data points\n",
    "x = np.array([2.0, 3.0, 4.0, 5.0, 6.0, 7.0, 8.0, 9.0, 10.0, 11.0, 12.0, 13.0, 14.0, 15.0, 16.0, 17.0, 18.0, 19.0, 20.0])\n",
    "y = np.array([0.7, 1.1, 1.5, 1.6, 1.7, 2.0, 2.3, 2.4, 2.2, 2.1, 2.4, 2.6, 2.2, 2.7, 2.5, 2.7, 2.8, 2.9, 3.1])\n",
    "\n",
    "# plotting straight line via polyfit() curve fitting function\n",
    "a, b = np.polyfit(x, y, 1)\n",
    "\n",
    "plt.scatter(x, y)\n",
    "plt.plot(x, a*x+b)"
   ]
  },
  {
   "cell_type": "code",
   "execution_count": null,
   "metadata": {},
   "outputs": [],
   "source": [
    "# data points\n",
    "x = np.array([2.0, 3.0, 4.0, 5.0, 6.0, 7.0, 8.0, 9.0, 10.0, 11.0, 12.0, 13.0, 14.0, 15.0, 16.0, 17.0, 18.0, 19.0, 20.0])\n",
    "y = np.array([0.7, 1.1, 1.5, 1.6, 1.7, 2.0, 2.3, 2.4, 2.2, 2.1, 2.4, 2.6, 2.2, 2.7, 2.5, 2.7, 2.8, 2.9, 3.1])\n",
    "\n",
    "# plotting the best fit line\n",
    "plt.plot(x)\n",
    "plt.plot(y)\n",
    "plt.show()"
   ]
  },
  {
   "cell_type": "code",
   "execution_count": null,
   "metadata": {},
   "outputs": [],
   "source": [
    "# plotting x versus y\n",
    "\n",
    "plt.plot(x, y, 'r-')\n",
    "plt.plot(x, y, 'g-')\n",
    "plt.plot(x, y, 'b-')\n",
    "\n",
    "# adding labels for axes\n",
    "plt.xlabel('Weight (kg)')\n",
    "plt.ylabel('Distance (cm)')\n",
    "\n",
    "# showing the plot\n",
    "plt.show()"
   ]
  },
  {
   "cell_type": "markdown",
   "metadata": {},
   "source": [
    "Simulating Data  \n",
    "Previously, the data was faked/simulated, as follows:"
   ]
  },
  {
   "cell_type": "code",
   "execution_count": null,
   "metadata": {},
   "outputs": [],
   "source": [
    "w = np.arange(0.0, 21.0, 1.0)\n",
    "d = 5.0 * w + 10.0 + np.random.normal(0.0, 5.0, w.size)"
   ]
  },
  {
   "cell_type": "markdown",
   "metadata": {},
   "source": [
    "The first command creates a numpy array containing all values between 1.0 & 21.0 (including 1.0 but excluding 21.0) in steps/increments of 1.0.  \n",
    "The second command takes values in the w array, multiplies each value by 5.0 and then adds 10.0.  \n",
    "Then adds an array of the same length containing random values, taken from normal distribution with mean = 0.0 and standard deviation = 5.0  \n",
    "Normal distribution follows a bell-shaped curve, centred on the mean and its general width determined by the standard deviation."
   ]
  },
  {
   "cell_type": "code",
   "execution_count": null,
   "metadata": {},
   "outputs": [],
   "source": [
    "normpdf = lambda mu, s, x: (1.0 / (2.0 * np.pi * s**2)) * np.exp(-((x - mu)**2)/(2 * s**2))\n",
    "\n",
    "x = np.linspace(-20.0, 20.0, 100)\n",
    "y = normpdf(0.0, 5.0, x)\n",
    "\n",
    "plt.plot(x, y)\n",
    "plt.show()"
   ]
  },
  {
   "cell_type": "markdown",
   "metadata": {},
   "source": [
    "The idea is to add some randomness to the distance measurements.  \n",
    "Random values are entered around 0.0, with a greater than 99% chance they are within the range -15.0 to 15.0  \n",
    "Normal distribution is used due to the Central Limit Theorem, when a bunch of random effects happen together, the outcome looks roughly like the normal distribution."
   ]
  },
  {
   "cell_type": "markdown",
   "metadata": {},
   "source": [
    "Plotting the Cost function  \n",
    "From previous code, we can plot the Cost function for a set of data points.  \n",
    "Cost involves two variables, m & c, with the formula:  \n",
    "\n",
    "Cost(m, c) = Ei (yi - mxi - c)**2  \n",
    "\n",
    "A 3D plot is required for a function of two variables."
   ]
  },
  {
   "cell_type": "code",
   "execution_count": null,
   "metadata": {},
   "outputs": [],
   "source": [
    "from mpl_toolkits.mplot3d import Axes3D\n",
    "\n",
    "# asking pyplot for a 3D set of axes\n",
    "fig = plt.figure(figsize = (8,8))\n",
    "ax = fig.add_subplot(111)\n",
    "\n",
    "# making data\n",
    "mvals = np.linspace(4.5, 5.5, 100)\n",
    "cvals = np.linspace(0.0, 20.0, 100)\n",
    "\n",
    "# filling the grid\n",
    "mvals, cvals = np.meshgrid(mvals, cvals)\n",
    "\n",
    "# flattening the meshes to make it more convenient\n",
    "mflat = np.ravel(mvals)\n",
    "cflat = np.ravel(cvals)\n",
    "\n",
    "# calculating the cost of each data point on the grid\n",
    "C = [np.sum([(d[i] - m * w[i] - c)**2 for i in range(w.size)]) for m, c in zip(mflat, cflat)]\n",
    "\n",
    "# plotting the surface\n",
    "surf = ax.plot_surface(mvals, cvals, C)\n",
    "\n",
    "# setting the axes labels\n",
    "ax.set_xlabel(\"$m$\", fontsize = 16)\n",
    "ax.set_ylabel(\"$c$\", fontsize = 16)\n",
    "ax.set_zlabel(\"$Cost$\", fontsize = 16)\n",
    "\n",
    "# showing the plot\n",
    "plt.show()"
   ]
  },
  {
   "cell_type": "markdown",
   "metadata": {},
   "source": [
    "Coefficient of Determination (R-Squared Value):  \n",
    "We used a Cost function to determine the best line to fit the data.  \n",
    "Usually the data does not perfectly fit on the best fit line, so the Cost is greater than 0.  \n",
    "A quantity closely related to Cost is known as the coefficient of determination, or the R-squared value.\n",
    "The R-squared value measures how much of the variance in y is determined by x.  \n",
    "\n",
    "In the travel case example earlier, the main thing that affects the distance that the spring is hanging down is the specific weight on the end, the only thing that affects it.  \n",
    "Room temperature and air density while taking our measurements could possibly affect it, also the age of the spring, previous usage, etc.  \n",
    "\n",
    "The R-squared value estimates how much of the changes in the y value is due to the changes in the x value, compared to all of the other factors affecting the y value:  \n",
    "\n",
    "R**2 = 1 - Ei (yi - mxi - c)**2 / Ei (yi - y_)**2\n",
    "\n",
    "The Pearson correlation coefficient is used instead of the R-squared value, we can square the Pearson correlation coefficient to get the R-squared value."
   ]
  },
  {
   "cell_type": "code",
   "execution_count": null,
   "metadata": {},
   "outputs": [],
   "source": [
    "# Calculating the R-squared value for our data set above\n",
    "rsq = 1.0 - (np.sum((d - m * w - c)**2) / np.sum((d - d_avg)**2))\n",
    "\n",
    "print(\"The R-squared value is %6.4f\" % rsq)"
   ]
  }
 ],
 "metadata": {
  "kernelspec": {
   "display_name": "Python 3 (ipykernel)",
   "language": "python",
   "name": "python3"
  },
  "language_info": {
   "codemirror_mode": {
    "name": "ipython",
    "version": 3
   },
   "file_extension": ".py",
   "mimetype": "text/x-python",
   "name": "python",
   "nbconvert_exporter": "python",
   "pygments_lexer": "ipython3",
   "version": "3.9.13"
  },
  "vscode": {
   "interpreter": {
    "hash": "a1f82d0fd1be96d5c2cfc8b5b6d623de297a3323bdcee05967133f841892dc18"
   }
  }
 },
 "nbformat": 4,
 "nbformat_minor": 2
}
